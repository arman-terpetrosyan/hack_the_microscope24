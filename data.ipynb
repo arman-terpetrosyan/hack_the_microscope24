{
 "cells": [
  {
   "cell_type": "code",
   "execution_count": null,
   "metadata": {},
   "outputs": [
    {
     "data": {
      "text/plain": [
       "'!pip install -q kornia atomai git+https://github.com/ziatdinovmax/pyroVED@main\\n!pip install colorspacious\\n!pip install wget'"
      ]
     },
     "execution_count": 3,
     "metadata": {},
     "output_type": "execute_result"
    }
   ],
   "source": [
    "\"\"\"!pip install -q kornia atomai git+https://github.com/ziatdinovmax/pyroVED@main\n",
    "!pip install colorspacious\n",
    "!pip install wget\n",
    "!pip install gdown\"\"\""
   ]
  },
  {
   "cell_type": "code",
   "execution_count": null,
   "metadata": {},
   "outputs": [],
   "source": [
    "from atomai import utils\n",
    "from atomai import stat as atomstat\n",
    "import atomai as aoi\n",
    "from sklearn.preprocessing import label_binarize\n",
    "from sklearn.metrics import roc_curve, auc\n",
    "from itertools import cycle\n",
    "import matplotlib.cm as cm\n",
    "from matplotlib.colors import Normalize\n",
    "from matplotlib.patches import Rectangle\n",
    "from sklearn.model_selection import train_test_split\n",
    "from sklearn.ensemble import RandomForestClassifier\n",
    "from sklearn.metrics import confusion_matrix, roc_curve, auc, classification_report\n",
    "import gdown\n",
    "import h5py\n",
    "import wget\n",
    "import os\n",
    "import numpy as np\n",
    "import matplotlib.pyplot as plt\n",
    "from sklearn import preprocessing\n",
    "import matplotlib.patches as patches"
   ]
  },
  {
   "cell_type": "code",
   "execution_count": 12,
   "metadata": {},
   "outputs": [
    {
     "name": "stdout",
     "output_type": "stream",
     "text": [
      "Sm_10_1_UCParameterization.h5\n",
      "Sm_13_0_HAADF.h5\n",
      "Sm_13_0_UCParameterization.h5\n",
      "Sm_20_0_HAADF.h5\n",
      "Sm_20_0_UCParameterization.h5\n"
     ]
    }
   ],
   "source": [
    "\n",
    "model_files = [\n",
    "               'Sm_10_1_UCParameterization.h5',\n",
    "               'Sm_13_0_HAADF.h5',\n",
    "               'Sm_13_0_UCParameterization.h5',\n",
    "               'Sm_20_0_HAADF.h5',\n",
    "               'Sm_20_0_UCParameterization.h5']\n",
    "\n",
    "for model_file in model_files:\n",
    "  print(model_file)\n",
    "  wget.download(\"https://zenodo.org/record/4555979/files/\"+model_file+\"?download=1\", out=model_file)\n"
   ]
  },
  {
   "cell_type": "code",
   "execution_count": null,
   "metadata": {},
   "outputs": [],
   "source": [
    "#list files\n",
    "filedir = '/data'\n",
    "[f for f in os.listdir(filedir)]"
   ]
  },
  {
   "cell_type": "code",
   "execution_count": null,
   "metadata": {},
   "outputs": [],
   "source": [
    "#image files\n",
    "composition_tags = [0,7,10,13,20]    #Sm composition %\n",
    "\n",
    "\n",
    "img_filename = ['Sm_0_1_HAADF.h5',\n",
    "                'Sm_7_2_HAADF.h5',\n",
    "                'Sm_10_1_HAADF.h5',\n",
    "                'Sm_13_0_HAADF.h5',\n",
    "                'Sm_20_0_HAADF.h5',]\n",
    "\n",
    "imnum = len(img_filename)\n",
    "\n",
    "#parametrization files\n",
    "\n",
    "UCparam_filename = ['Sm_0_1_UCParameterization.h5',\n",
    "                    'Sm_7_2_UCParameterization.h5',\n",
    "                    'Sm_10_1_UCParameterization.h5',\n",
    "                    'Sm_13_0_UCParameterization.h5',\n",
    "                    'Sm_20_0_UCParameterization.h5',]\n",
    "\n",
    "#load parameter files\n",
    "UCparam = []\n",
    "for x in UCparam_filename:\n",
    "  print('loading parameterization file: ', os.path.join(filedir, x))\n",
    "  temp = h5py.File(os.path.join(filedir, x), 'r')\n",
    "  UCparam.append(temp)\n",
    "\n",
    "#load images\n",
    "imgdata = []\n",
    "for x in img_filename:\n",
    "  print('loading image file: ', os.path.join(filedir, x))\n",
    "  temp = h5py.File(os.path.join(filedir, x), 'r')['MainImage']\n",
    "  imgdata.append(temp)\n",
    "\n",
    "print('UC parameterization:', [k for k in UCparam[0].keys()])"
   ]
  }
 ],
 "metadata": {
  "kernelspec": {
   "display_name": "code_test",
   "language": "python",
   "name": "python3"
  },
  "language_info": {
   "codemirror_mode": {
    "name": "ipython",
    "version": 3
   },
   "file_extension": ".py",
   "mimetype": "text/x-python",
   "name": "python",
   "nbconvert_exporter": "python",
   "pygments_lexer": "ipython3",
   "version": "3.10.13"
  }
 },
 "nbformat": 4,
 "nbformat_minor": 2
}
